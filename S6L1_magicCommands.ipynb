{
 "cells": [
  {
   "cell_type": "code",
   "execution_count": 9,
   "id": "615f0d42-1cd0-4695-9836-83029e477e3c",
   "metadata": {},
   "outputs": [
    {
     "name": "stdout",
     "output_type": "stream",
     "text": [
      "Hello world\n"
     ]
    }
   ],
   "source": [
    "#Esercizio 1: %run Scrivi uno script Python chiamato script_esempio.py che stampa \"Hello, World!\". \n",
    "# Utilizza il magic command %run per eseguire questo script direttamente dalla cella di un notebook.\n",
    "\n",
    "%run script_esempio.py"
   ]
  },
  {
   "cell_type": "code",
   "execution_count": 7,
   "id": "950ece1c-e262-428a-a7ca-6b169700c4a8",
   "metadata": {},
   "outputs": [
    {
     "name": "stdout",
     "output_type": "stream",
     "text": [
      "Writing script_esempio.py\n"
     ]
    }
   ],
   "source": [
    "%%writefile script_esempio.py\n",
    "print('Hello world')"
   ]
  },
  {
   "cell_type": "markdown",
   "id": "c6a13c7e-347e-4f85-9ffd-faaa2e9942e5",
   "metadata": {},
   "source": [
    "\n",
    "Esercizio 2: %%writefile Crea una cella di codice e utilizza il magic command %%writefile per scrivere il contenuto della cella in un file di testo chiamato output.txt. Il contenuto del file dovrebbe essere \"Questo è un esempio di scrittura in file usando magic command.»"
   ]
  },
  {
   "cell_type": "code",
   "execution_count": 11,
   "id": "4b031655-5501-4072-a696-25506d2c2f67",
   "metadata": {},
   "outputs": [
    {
     "name": "stdout",
     "output_type": "stream",
     "text": [
      "Writing output.txt\n"
     ]
    }
   ],
   "source": [
    "%%writefile output.txt\n",
    "\"Questo è un esempio di scrittura in file usando magic command.\""
   ]
  },
  {
   "cell_type": "markdown",
   "id": "164dc803-9abd-40d8-9664-d517370928cb",
   "metadata": {},
   "source": [
    "Esercizio 3: %timeit Definisci una funzione chiamata calcola_quadrato che accetta un numero come argomento e restituisce il quadrato di quel numero. Utilizza %timeit per misurare il tempo medio di esecuzione della funzione per il valore 5."
   ]
  },
  {
   "cell_type": "code",
   "execution_count": 16,
   "id": "cbef5418-18b5-48be-8448-f550064ae9c8",
   "metadata": {},
   "outputs": [
    {
     "name": "stdout",
     "output_type": "stream",
     "text": [
      "30.1 ns ± 0.343 ns per loop (mean ± std. dev. of 7 runs, 10,000,000 loops each)\n"
     ]
    }
   ],
   "source": [
    "def calcola_quadrato(n):\n",
    "    return n**2\n",
    "calcola_quadrato(5)\n",
    "\n",
    "%timeit calcola_quadrato(5)    "
   ]
  },
  {
   "cell_type": "markdown",
   "id": "dafacf74-45a2-470f-9155-b93db1410e43",
   "metadata": {},
   "source": [
    "Esercizio 4: %cd e %ls Utilizza i magic commands %cd e %ls per cambiare la directory di lavoro nella directory Documenti e visualizzare l'elenco dei file in quella directory. Ricorda di eseguire ciascuna cella di codice separatamente per vedere il risultato delle magic commands."
   ]
  },
  {
   "cell_type": "code",
   "execution_count": 42,
   "id": "220b6cf3-3d22-44fd-ac94-d148dc851238",
   "metadata": {},
   "outputs": [
    {
     "name": "stdout",
     "output_type": "stream",
     "text": [
      "/Users/katsiarynabelenkaya/Desktop/Data_Analyst/Documenti\n"
     ]
    }
   ],
   "source": [
    "%cd /Users/katsiarynabelenkaya/Desktop/Data_Analyst/Documenti/"
   ]
  },
  {
   "cell_type": "code",
   "execution_count": 44,
   "id": "a170dcb2-6ef9-4599-83f5-ecfa27773f87",
   "metadata": {},
   "outputs": [
    {
     "name": "stdout",
     "output_type": "stream",
     "text": [
      "Mamma.xlsx\n"
     ]
    }
   ],
   "source": [
    "%ls"
   ]
  },
  {
   "cell_type": "code",
   "execution_count": null,
   "id": "5a5f1163-3dbd-4032-b752-c4819a4c81be",
   "metadata": {},
   "outputs": [],
   "source": []
  }
 ],
 "metadata": {
  "kernelspec": {
   "display_name": "Python 3 (ipykernel)",
   "language": "python",
   "name": "python3"
  },
  "language_info": {
   "codemirror_mode": {
    "name": "ipython",
    "version": 3
   },
   "file_extension": ".py",
   "mimetype": "text/x-python",
   "name": "python",
   "nbconvert_exporter": "python",
   "pygments_lexer": "ipython3",
   "version": "3.11.7"
  }
 },
 "nbformat": 4,
 "nbformat_minor": 5
}
